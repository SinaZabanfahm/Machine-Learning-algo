{
 "cells": [
  {
   "cell_type": "code",
   "execution_count": 1,
   "id": "a395b52c",
   "metadata": {
    "_cell_guid": "b1076dfc-b9ad-4769-8c92-a6c4dae69d19",
    "_uuid": "8f2839f25d086af736a60e9eeb907d3b93b6e0e5",
    "execution": {
     "iopub.execute_input": "2022-10-29T02:56:14.842878Z",
     "iopub.status.busy": "2022-10-29T02:56:14.842401Z",
     "iopub.status.idle": "2022-10-29T02:56:14.852428Z",
     "shell.execute_reply": "2022-10-29T02:56:14.851490Z"
    },
    "papermill": {
     "duration": 0.020023,
     "end_time": "2022-10-29T02:56:14.854550",
     "exception": false,
     "start_time": "2022-10-29T02:56:14.834527",
     "status": "completed"
    },
    "tags": []
   },
   "outputs": [],
   "source": [
    "import numpy as np\n",
    "import matplotlib.pyplot as plt\n",
    "import pandas as pd\n",
    "import os\n"
   ]
  },
  {
   "cell_type": "code",
   "execution_count": 2,
   "id": "be2d4def",
   "metadata": {
    "execution": {
     "iopub.execute_input": "2022-10-29T02:56:14.866768Z",
     "iopub.status.busy": "2022-10-29T02:56:14.866007Z",
     "iopub.status.idle": "2022-10-29T02:56:14.872054Z",
     "shell.execute_reply": "2022-10-29T02:56:14.871231Z"
    },
    "papermill": {
     "duration": 0.015148,
     "end_time": "2022-10-29T02:56:14.874919",
     "exception": false,
     "start_time": "2022-10-29T02:56:14.859771",
     "status": "completed"
    },
    "tags": []
   },
   "outputs": [
    {
     "name": "stdout",
     "output_type": "stream",
     "text": [
      "['train.csv', 'test.csv', 'gender_submission.csv']\n"
     ]
    }
   ],
   "source": [
    "print(os.listdir(\"../input/titanic\"))"
   ]
  },
  {
   "cell_type": "code",
   "execution_count": 3,
   "id": "f9bb80ca",
   "metadata": {
    "execution": {
     "iopub.execute_input": "2022-10-29T02:56:14.887674Z",
     "iopub.status.busy": "2022-10-29T02:56:14.886619Z",
     "iopub.status.idle": "2022-10-29T02:56:14.932391Z",
     "shell.execute_reply": "2022-10-29T02:56:14.931264Z"
    },
    "papermill": {
     "duration": 0.054356,
     "end_time": "2022-10-29T02:56:14.934610",
     "exception": false,
     "start_time": "2022-10-29T02:56:14.880254",
     "status": "completed"
    },
    "tags": []
   },
   "outputs": [
    {
     "data": {
      "text/plain": [
       "Index(['PassengerId', 'Survived', 'Pclass', 'Name', 'Sex', 'Age', 'SibSp',\n",
       "       'Parch', 'Ticket', 'Fare', 'Cabin', 'Embarked'],\n",
       "      dtype='object')"
      ]
     },
     "execution_count": 3,
     "metadata": {},
     "output_type": "execute_result"
    }
   ],
   "source": [
    "df_train=pd.read_csv('../input/titanic/train.csv')\n",
    "df_test=pd.read_csv('../input/titanic/test.csv')\n",
    "df_gender_submission=pd.read_csv(\"../input/titanic/gender_submission.csv\")\n",
    "df_train.columns.unique()\n"
   ]
  },
  {
   "cell_type": "code",
   "execution_count": 4,
   "id": "d120a588",
   "metadata": {
    "execution": {
     "iopub.execute_input": "2022-10-29T02:56:14.947961Z",
     "iopub.status.busy": "2022-10-29T02:56:14.947564Z",
     "iopub.status.idle": "2022-10-29T02:56:14.975493Z",
     "shell.execute_reply": "2022-10-29T02:56:14.974337Z"
    },
    "papermill": {
     "duration": 0.036957,
     "end_time": "2022-10-29T02:56:14.977691",
     "exception": false,
     "start_time": "2022-10-29T02:56:14.940734",
     "status": "completed"
    },
    "tags": []
   },
   "outputs": [
    {
     "data": {
      "text/html": [
       "<div>\n",
       "<style scoped>\n",
       "    .dataframe tbody tr th:only-of-type {\n",
       "        vertical-align: middle;\n",
       "    }\n",
       "\n",
       "    .dataframe tbody tr th {\n",
       "        vertical-align: top;\n",
       "    }\n",
       "\n",
       "    .dataframe thead th {\n",
       "        text-align: right;\n",
       "    }\n",
       "</style>\n",
       "<table border=\"1\" class=\"dataframe\">\n",
       "  <thead>\n",
       "    <tr style=\"text-align: right;\">\n",
       "      <th></th>\n",
       "      <th>PassengerId</th>\n",
       "      <th>Survived</th>\n",
       "      <th>Pclass</th>\n",
       "      <th>Name</th>\n",
       "      <th>Sex</th>\n",
       "      <th>Age</th>\n",
       "      <th>SibSp</th>\n",
       "      <th>Parch</th>\n",
       "      <th>Ticket</th>\n",
       "      <th>Fare</th>\n",
       "      <th>Cabin</th>\n",
       "      <th>Embarked</th>\n",
       "    </tr>\n",
       "  </thead>\n",
       "  <tbody>\n",
       "    <tr>\n",
       "      <th>0</th>\n",
       "      <td>1</td>\n",
       "      <td>0</td>\n",
       "      <td>3</td>\n",
       "      <td>Braund, Mr. Owen Harris</td>\n",
       "      <td>male</td>\n",
       "      <td>22.0</td>\n",
       "      <td>1</td>\n",
       "      <td>0</td>\n",
       "      <td>A/5 21171</td>\n",
       "      <td>7.2500</td>\n",
       "      <td>NaN</td>\n",
       "      <td>S</td>\n",
       "    </tr>\n",
       "    <tr>\n",
       "      <th>1</th>\n",
       "      <td>2</td>\n",
       "      <td>1</td>\n",
       "      <td>1</td>\n",
       "      <td>Cumings, Mrs. John Bradley (Florence Briggs Th...</td>\n",
       "      <td>female</td>\n",
       "      <td>38.0</td>\n",
       "      <td>1</td>\n",
       "      <td>0</td>\n",
       "      <td>PC 17599</td>\n",
       "      <td>71.2833</td>\n",
       "      <td>C85</td>\n",
       "      <td>C</td>\n",
       "    </tr>\n",
       "    <tr>\n",
       "      <th>2</th>\n",
       "      <td>3</td>\n",
       "      <td>1</td>\n",
       "      <td>3</td>\n",
       "      <td>Heikkinen, Miss. Laina</td>\n",
       "      <td>female</td>\n",
       "      <td>26.0</td>\n",
       "      <td>0</td>\n",
       "      <td>0</td>\n",
       "      <td>STON/O2. 3101282</td>\n",
       "      <td>7.9250</td>\n",
       "      <td>NaN</td>\n",
       "      <td>S</td>\n",
       "    </tr>\n",
       "    <tr>\n",
       "      <th>3</th>\n",
       "      <td>4</td>\n",
       "      <td>1</td>\n",
       "      <td>1</td>\n",
       "      <td>Futrelle, Mrs. Jacques Heath (Lily May Peel)</td>\n",
       "      <td>female</td>\n",
       "      <td>35.0</td>\n",
       "      <td>1</td>\n",
       "      <td>0</td>\n",
       "      <td>113803</td>\n",
       "      <td>53.1000</td>\n",
       "      <td>C123</td>\n",
       "      <td>S</td>\n",
       "    </tr>\n",
       "    <tr>\n",
       "      <th>4</th>\n",
       "      <td>5</td>\n",
       "      <td>0</td>\n",
       "      <td>3</td>\n",
       "      <td>Allen, Mr. William Henry</td>\n",
       "      <td>male</td>\n",
       "      <td>35.0</td>\n",
       "      <td>0</td>\n",
       "      <td>0</td>\n",
       "      <td>373450</td>\n",
       "      <td>8.0500</td>\n",
       "      <td>NaN</td>\n",
       "      <td>S</td>\n",
       "    </tr>\n",
       "  </tbody>\n",
       "</table>\n",
       "</div>"
      ],
      "text/plain": [
       "   PassengerId  Survived  Pclass  \\\n",
       "0            1         0       3   \n",
       "1            2         1       1   \n",
       "2            3         1       3   \n",
       "3            4         1       1   \n",
       "4            5         0       3   \n",
       "\n",
       "                                                Name     Sex   Age  SibSp  \\\n",
       "0                            Braund, Mr. Owen Harris    male  22.0      1   \n",
       "1  Cumings, Mrs. John Bradley (Florence Briggs Th...  female  38.0      1   \n",
       "2                             Heikkinen, Miss. Laina  female  26.0      0   \n",
       "3       Futrelle, Mrs. Jacques Heath (Lily May Peel)  female  35.0      1   \n",
       "4                           Allen, Mr. William Henry    male  35.0      0   \n",
       "\n",
       "   Parch            Ticket     Fare Cabin Embarked  \n",
       "0      0         A/5 21171   7.2500   NaN        S  \n",
       "1      0          PC 17599  71.2833   C85        C  \n",
       "2      0  STON/O2. 3101282   7.9250   NaN        S  \n",
       "3      0            113803  53.1000  C123        S  \n",
       "4      0            373450   8.0500   NaN        S  "
      ]
     },
     "execution_count": 4,
     "metadata": {},
     "output_type": "execute_result"
    }
   ],
   "source": [
    "df_train.head(5)"
   ]
  },
  {
   "cell_type": "code",
   "execution_count": 5,
   "id": "d481975d",
   "metadata": {
    "execution": {
     "iopub.execute_input": "2022-10-29T02:56:14.991321Z",
     "iopub.status.busy": "2022-10-29T02:56:14.990938Z",
     "iopub.status.idle": "2022-10-29T02:56:15.001233Z",
     "shell.execute_reply": "2022-10-29T02:56:15.000012Z"
    },
    "papermill": {
     "duration": 0.020077,
     "end_time": "2022-10-29T02:56:15.003613",
     "exception": false,
     "start_time": "2022-10-29T02:56:14.983536",
     "status": "completed"
    },
    "tags": []
   },
   "outputs": [
    {
     "data": {
      "text/html": [
       "<div>\n",
       "<style scoped>\n",
       "    .dataframe tbody tr th:only-of-type {\n",
       "        vertical-align: middle;\n",
       "    }\n",
       "\n",
       "    .dataframe tbody tr th {\n",
       "        vertical-align: top;\n",
       "    }\n",
       "\n",
       "    .dataframe thead th {\n",
       "        text-align: right;\n",
       "    }\n",
       "</style>\n",
       "<table border=\"1\" class=\"dataframe\">\n",
       "  <thead>\n",
       "    <tr style=\"text-align: right;\">\n",
       "      <th></th>\n",
       "      <th>PassengerId</th>\n",
       "      <th>Survived</th>\n",
       "    </tr>\n",
       "  </thead>\n",
       "  <tbody>\n",
       "    <tr>\n",
       "      <th>0</th>\n",
       "      <td>892</td>\n",
       "      <td>0</td>\n",
       "    </tr>\n",
       "    <tr>\n",
       "      <th>1</th>\n",
       "      <td>893</td>\n",
       "      <td>1</td>\n",
       "    </tr>\n",
       "    <tr>\n",
       "      <th>2</th>\n",
       "      <td>894</td>\n",
       "      <td>0</td>\n",
       "    </tr>\n",
       "    <tr>\n",
       "      <th>3</th>\n",
       "      <td>895</td>\n",
       "      <td>0</td>\n",
       "    </tr>\n",
       "    <tr>\n",
       "      <th>4</th>\n",
       "      <td>896</td>\n",
       "      <td>1</td>\n",
       "    </tr>\n",
       "  </tbody>\n",
       "</table>\n",
       "</div>"
      ],
      "text/plain": [
       "   PassengerId  Survived\n",
       "0          892         0\n",
       "1          893         1\n",
       "2          894         0\n",
       "3          895         0\n",
       "4          896         1"
      ]
     },
     "execution_count": 5,
     "metadata": {},
     "output_type": "execute_result"
    }
   ],
   "source": [
    "df_gender_submission.head(5)"
   ]
  },
  {
   "cell_type": "code",
   "execution_count": 6,
   "id": "fd9dafb2",
   "metadata": {
    "execution": {
     "iopub.execute_input": "2022-10-29T02:56:15.017212Z",
     "iopub.status.busy": "2022-10-29T02:56:15.016821Z",
     "iopub.status.idle": "2022-10-29T02:56:15.042869Z",
     "shell.execute_reply": "2022-10-29T02:56:15.041797Z"
    },
    "papermill": {
     "duration": 0.035783,
     "end_time": "2022-10-29T02:56:15.045285",
     "exception": false,
     "start_time": "2022-10-29T02:56:15.009502",
     "status": "completed"
    },
    "tags": []
   },
   "outputs": [
    {
     "data": {
      "text/html": [
       "<div>\n",
       "<style scoped>\n",
       "    .dataframe tbody tr th:only-of-type {\n",
       "        vertical-align: middle;\n",
       "    }\n",
       "\n",
       "    .dataframe tbody tr th {\n",
       "        vertical-align: top;\n",
       "    }\n",
       "\n",
       "    .dataframe thead th {\n",
       "        text-align: right;\n",
       "    }\n",
       "</style>\n",
       "<table border=\"1\" class=\"dataframe\">\n",
       "  <thead>\n",
       "    <tr style=\"text-align: right;\">\n",
       "      <th></th>\n",
       "      <th>PassengerId</th>\n",
       "      <th>Pclass</th>\n",
       "      <th>Name</th>\n",
       "      <th>Sex</th>\n",
       "      <th>Age</th>\n",
       "      <th>SibSp</th>\n",
       "      <th>Parch</th>\n",
       "      <th>Ticket</th>\n",
       "      <th>Fare</th>\n",
       "      <th>Cabin</th>\n",
       "      <th>Embarked</th>\n",
       "    </tr>\n",
       "  </thead>\n",
       "  <tbody>\n",
       "    <tr>\n",
       "      <th>0</th>\n",
       "      <td>892</td>\n",
       "      <td>3</td>\n",
       "      <td>Kelly, Mr. James</td>\n",
       "      <td>male</td>\n",
       "      <td>34.5</td>\n",
       "      <td>0</td>\n",
       "      <td>0</td>\n",
       "      <td>330911</td>\n",
       "      <td>7.8292</td>\n",
       "      <td>NaN</td>\n",
       "      <td>Q</td>\n",
       "    </tr>\n",
       "    <tr>\n",
       "      <th>1</th>\n",
       "      <td>893</td>\n",
       "      <td>3</td>\n",
       "      <td>Wilkes, Mrs. James (Ellen Needs)</td>\n",
       "      <td>female</td>\n",
       "      <td>47.0</td>\n",
       "      <td>1</td>\n",
       "      <td>0</td>\n",
       "      <td>363272</td>\n",
       "      <td>7.0000</td>\n",
       "      <td>NaN</td>\n",
       "      <td>S</td>\n",
       "    </tr>\n",
       "    <tr>\n",
       "      <th>2</th>\n",
       "      <td>894</td>\n",
       "      <td>2</td>\n",
       "      <td>Myles, Mr. Thomas Francis</td>\n",
       "      <td>male</td>\n",
       "      <td>62.0</td>\n",
       "      <td>0</td>\n",
       "      <td>0</td>\n",
       "      <td>240276</td>\n",
       "      <td>9.6875</td>\n",
       "      <td>NaN</td>\n",
       "      <td>Q</td>\n",
       "    </tr>\n",
       "    <tr>\n",
       "      <th>3</th>\n",
       "      <td>895</td>\n",
       "      <td>3</td>\n",
       "      <td>Wirz, Mr. Albert</td>\n",
       "      <td>male</td>\n",
       "      <td>27.0</td>\n",
       "      <td>0</td>\n",
       "      <td>0</td>\n",
       "      <td>315154</td>\n",
       "      <td>8.6625</td>\n",
       "      <td>NaN</td>\n",
       "      <td>S</td>\n",
       "    </tr>\n",
       "    <tr>\n",
       "      <th>4</th>\n",
       "      <td>896</td>\n",
       "      <td>3</td>\n",
       "      <td>Hirvonen, Mrs. Alexander (Helga E Lindqvist)</td>\n",
       "      <td>female</td>\n",
       "      <td>22.0</td>\n",
       "      <td>1</td>\n",
       "      <td>1</td>\n",
       "      <td>3101298</td>\n",
       "      <td>12.2875</td>\n",
       "      <td>NaN</td>\n",
       "      <td>S</td>\n",
       "    </tr>\n",
       "    <tr>\n",
       "      <th>...</th>\n",
       "      <td>...</td>\n",
       "      <td>...</td>\n",
       "      <td>...</td>\n",
       "      <td>...</td>\n",
       "      <td>...</td>\n",
       "      <td>...</td>\n",
       "      <td>...</td>\n",
       "      <td>...</td>\n",
       "      <td>...</td>\n",
       "      <td>...</td>\n",
       "      <td>...</td>\n",
       "    </tr>\n",
       "    <tr>\n",
       "      <th>413</th>\n",
       "      <td>1305</td>\n",
       "      <td>3</td>\n",
       "      <td>Spector, Mr. Woolf</td>\n",
       "      <td>male</td>\n",
       "      <td>NaN</td>\n",
       "      <td>0</td>\n",
       "      <td>0</td>\n",
       "      <td>A.5. 3236</td>\n",
       "      <td>8.0500</td>\n",
       "      <td>NaN</td>\n",
       "      <td>S</td>\n",
       "    </tr>\n",
       "    <tr>\n",
       "      <th>414</th>\n",
       "      <td>1306</td>\n",
       "      <td>1</td>\n",
       "      <td>Oliva y Ocana, Dona. Fermina</td>\n",
       "      <td>female</td>\n",
       "      <td>39.0</td>\n",
       "      <td>0</td>\n",
       "      <td>0</td>\n",
       "      <td>PC 17758</td>\n",
       "      <td>108.9000</td>\n",
       "      <td>C105</td>\n",
       "      <td>C</td>\n",
       "    </tr>\n",
       "    <tr>\n",
       "      <th>415</th>\n",
       "      <td>1307</td>\n",
       "      <td>3</td>\n",
       "      <td>Saether, Mr. Simon Sivertsen</td>\n",
       "      <td>male</td>\n",
       "      <td>38.5</td>\n",
       "      <td>0</td>\n",
       "      <td>0</td>\n",
       "      <td>SOTON/O.Q. 3101262</td>\n",
       "      <td>7.2500</td>\n",
       "      <td>NaN</td>\n",
       "      <td>S</td>\n",
       "    </tr>\n",
       "    <tr>\n",
       "      <th>416</th>\n",
       "      <td>1308</td>\n",
       "      <td>3</td>\n",
       "      <td>Ware, Mr. Frederick</td>\n",
       "      <td>male</td>\n",
       "      <td>NaN</td>\n",
       "      <td>0</td>\n",
       "      <td>0</td>\n",
       "      <td>359309</td>\n",
       "      <td>8.0500</td>\n",
       "      <td>NaN</td>\n",
       "      <td>S</td>\n",
       "    </tr>\n",
       "    <tr>\n",
       "      <th>417</th>\n",
       "      <td>1309</td>\n",
       "      <td>3</td>\n",
       "      <td>Peter, Master. Michael J</td>\n",
       "      <td>male</td>\n",
       "      <td>NaN</td>\n",
       "      <td>1</td>\n",
       "      <td>1</td>\n",
       "      <td>2668</td>\n",
       "      <td>22.3583</td>\n",
       "      <td>NaN</td>\n",
       "      <td>C</td>\n",
       "    </tr>\n",
       "  </tbody>\n",
       "</table>\n",
       "<p>418 rows × 11 columns</p>\n",
       "</div>"
      ],
      "text/plain": [
       "     PassengerId  Pclass                                          Name  \\\n",
       "0            892       3                              Kelly, Mr. James   \n",
       "1            893       3              Wilkes, Mrs. James (Ellen Needs)   \n",
       "2            894       2                     Myles, Mr. Thomas Francis   \n",
       "3            895       3                              Wirz, Mr. Albert   \n",
       "4            896       3  Hirvonen, Mrs. Alexander (Helga E Lindqvist)   \n",
       "..           ...     ...                                           ...   \n",
       "413         1305       3                            Spector, Mr. Woolf   \n",
       "414         1306       1                  Oliva y Ocana, Dona. Fermina   \n",
       "415         1307       3                  Saether, Mr. Simon Sivertsen   \n",
       "416         1308       3                           Ware, Mr. Frederick   \n",
       "417         1309       3                      Peter, Master. Michael J   \n",
       "\n",
       "        Sex   Age  SibSp  Parch              Ticket      Fare Cabin Embarked  \n",
       "0      male  34.5      0      0              330911    7.8292   NaN        Q  \n",
       "1    female  47.0      1      0              363272    7.0000   NaN        S  \n",
       "2      male  62.0      0      0              240276    9.6875   NaN        Q  \n",
       "3      male  27.0      0      0              315154    8.6625   NaN        S  \n",
       "4    female  22.0      1      1             3101298   12.2875   NaN        S  \n",
       "..      ...   ...    ...    ...                 ...       ...   ...      ...  \n",
       "413    male   NaN      0      0           A.5. 3236    8.0500   NaN        S  \n",
       "414  female  39.0      0      0            PC 17758  108.9000  C105        C  \n",
       "415    male  38.5      0      0  SOTON/O.Q. 3101262    7.2500   NaN        S  \n",
       "416    male   NaN      0      0              359309    8.0500   NaN        S  \n",
       "417    male   NaN      1      1                2668   22.3583   NaN        C  \n",
       "\n",
       "[418 rows x 11 columns]"
      ]
     },
     "execution_count": 6,
     "metadata": {},
     "output_type": "execute_result"
    }
   ],
   "source": [
    "df_test"
   ]
  },
  {
   "cell_type": "code",
   "execution_count": 7,
   "id": "fe5b9ce3",
   "metadata": {
    "execution": {
     "iopub.execute_input": "2022-10-29T02:56:15.059346Z",
     "iopub.status.busy": "2022-10-29T02:56:15.058972Z",
     "iopub.status.idle": "2022-10-29T02:56:15.074175Z",
     "shell.execute_reply": "2022-10-29T02:56:15.072987Z"
    },
    "papermill": {
     "duration": 0.025103,
     "end_time": "2022-10-29T02:56:15.076527",
     "exception": false,
     "start_time": "2022-10-29T02:56:15.051424",
     "status": "completed"
    },
    "tags": []
   },
   "outputs": [
    {
     "data": {
      "text/plain": [
       "Index(['Survived', 'Pclass', 'Sex', 'Age', 'SibSp', 'Parch', 'Fare',\n",
       "       'Embarked'],\n",
       "      dtype='object')"
      ]
     },
     "execution_count": 7,
     "metadata": {},
     "output_type": "execute_result"
    }
   ],
   "source": [
    "df_train.drop(columns=['Cabin','Name','Ticket','PassengerId'],inplace=True)\n",
    "df_test.drop(columns=['Cabin','Name','Ticket','PassengerId'],inplace=True)\n",
    "df_train.columns.unique()"
   ]
  },
  {
   "cell_type": "code",
   "execution_count": 8,
   "id": "debe47f5",
   "metadata": {
    "execution": {
     "iopub.execute_input": "2022-10-29T02:56:15.090703Z",
     "iopub.status.busy": "2022-10-29T02:56:15.090336Z",
     "iopub.status.idle": "2022-10-29T02:56:15.111679Z",
     "shell.execute_reply": "2022-10-29T02:56:15.110282Z"
    },
    "papermill": {
     "duration": 0.032053,
     "end_time": "2022-10-29T02:56:15.114807",
     "exception": false,
     "start_time": "2022-10-29T02:56:15.082754",
     "status": "completed"
    },
    "tags": []
   },
   "outputs": [
    {
     "name": "stdout",
     "output_type": "stream",
     "text": [
      "<class 'pandas.core.frame.DataFrame'>\n",
      "RangeIndex: 891 entries, 0 to 890\n",
      "Data columns (total 8 columns):\n",
      " #   Column    Non-Null Count  Dtype  \n",
      "---  ------    --------------  -----  \n",
      " 0   Survived  891 non-null    int64  \n",
      " 1   Pclass    891 non-null    int64  \n",
      " 2   Sex       891 non-null    object \n",
      " 3   Age       714 non-null    float64\n",
      " 4   SibSp     891 non-null    int64  \n",
      " 5   Parch     891 non-null    int64  \n",
      " 6   Fare      891 non-null    float64\n",
      " 7   Embarked  889 non-null    object \n",
      "dtypes: float64(2), int64(4), object(2)\n",
      "memory usage: 55.8+ KB\n"
     ]
    }
   ],
   "source": [
    "df_train.info()"
   ]
  },
  {
   "cell_type": "code",
   "execution_count": 9,
   "id": "27222cf7",
   "metadata": {
    "execution": {
     "iopub.execute_input": "2022-10-29T02:56:15.131663Z",
     "iopub.status.busy": "2022-10-29T02:56:15.131261Z",
     "iopub.status.idle": "2022-10-29T02:56:15.144540Z",
     "shell.execute_reply": "2022-10-29T02:56:15.143549Z"
    },
    "papermill": {
     "duration": 0.024777,
     "end_time": "2022-10-29T02:56:15.146965",
     "exception": false,
     "start_time": "2022-10-29T02:56:15.122188",
     "status": "completed"
    },
    "tags": []
   },
   "outputs": [],
   "source": [
    "df_train['Age']=df_train['Age'].fillna(np.mean(df_train['Age']))\n",
    "df_test['Age']=df_test['Age'].fillna(np.mean(df_test['Age']))\n",
    "df_test['Fare']=df_test['Fare'].replace('Q',np.mean(df_test['Fare']))\n",
    "\n",
    "df_train['Sex']=df_train['Sex'].replace('male','0').replace('female','1')\n",
    "df_train['Sex']=df_train['Sex'].astype(int)\n",
    "df_test['Sex']=df_test['Sex'].replace('male','0').replace('female','1')\n",
    "df_test['Sex']=df_test['Sex'].astype(int)"
   ]
  },
  {
   "cell_type": "code",
   "execution_count": 10,
   "id": "997dc1f8",
   "metadata": {
    "execution": {
     "iopub.execute_input": "2022-10-29T02:56:15.161308Z",
     "iopub.status.busy": "2022-10-29T02:56:15.160886Z",
     "iopub.status.idle": "2022-10-29T02:56:15.174684Z",
     "shell.execute_reply": "2022-10-29T02:56:15.172975Z"
    },
    "papermill": {
     "duration": 0.023848,
     "end_time": "2022-10-29T02:56:15.177143",
     "exception": false,
     "start_time": "2022-10-29T02:56:15.153295",
     "status": "completed"
    },
    "tags": []
   },
   "outputs": [
    {
     "name": "stdout",
     "output_type": "stream",
     "text": [
      "<class 'pandas.core.frame.DataFrame'>\n",
      "RangeIndex: 891 entries, 0 to 890\n",
      "Data columns (total 8 columns):\n",
      " #   Column    Non-Null Count  Dtype  \n",
      "---  ------    --------------  -----  \n",
      " 0   Survived  891 non-null    int64  \n",
      " 1   Pclass    891 non-null    int64  \n",
      " 2   Sex       891 non-null    int64  \n",
      " 3   Age       891 non-null    float64\n",
      " 4   SibSp     891 non-null    int64  \n",
      " 5   Parch     891 non-null    int64  \n",
      " 6   Fare      891 non-null    float64\n",
      " 7   Embarked  889 non-null    object \n",
      "dtypes: float64(2), int64(5), object(1)\n",
      "memory usage: 55.8+ KB\n"
     ]
    }
   ],
   "source": [
    "df_train.info()"
   ]
  },
  {
   "cell_type": "code",
   "execution_count": 11,
   "id": "635d5451",
   "metadata": {
    "execution": {
     "iopub.execute_input": "2022-10-29T02:56:15.191890Z",
     "iopub.status.busy": "2022-10-29T02:56:15.191213Z",
     "iopub.status.idle": "2022-10-29T02:56:15.224191Z",
     "shell.execute_reply": "2022-10-29T02:56:15.222913Z"
    },
    "papermill": {
     "duration": 0.043343,
     "end_time": "2022-10-29T02:56:15.226883",
     "exception": false,
     "start_time": "2022-10-29T02:56:15.183540",
     "status": "completed"
    },
    "tags": []
   },
   "outputs": [
    {
     "name": "stdout",
     "output_type": "stream",
     "text": [
      "<class 'pandas.core.frame.DataFrame'>\n",
      "RangeIndex: 418 entries, 0 to 417\n",
      "Data columns (total 7 columns):\n",
      " #   Column    Non-Null Count  Dtype  \n",
      "---  ------    --------------  -----  \n",
      " 0   Pclass    418 non-null    int64  \n",
      " 1   Sex       418 non-null    int64  \n",
      " 2   Age       418 non-null    float64\n",
      " 3   SibSp     418 non-null    int64  \n",
      " 4   Parch     418 non-null    int64  \n",
      " 5   Fare      418 non-null    int64  \n",
      " 6   Embarked  418 non-null    int64  \n",
      "dtypes: float64(1), int64(6)\n",
      "memory usage: 23.0 KB\n"
     ]
    }
   ],
   "source": [
    "\n",
    "df_train['Embarked'].unique()\n",
    "df_train.fillna('Q',inplace=True)\n",
    "df_test['Fare']=df_test['Fare'].replace('Q',np.nan).fillna(np.mean(df_test['Fare'])).astype(int)\n",
    "\n",
    "\n",
    "d={'C':'0','S':'1','Q':'2'}\n",
    "for key in d:\n",
    "    df_train['Embarked']=df_train['Embarked'].str.replace(key,d[key])\n",
    "    df_test['Embarked']=df_test['Embarked'].str.replace(key,d[key])\n",
    "df_train['Embarked'].unique()\n",
    "df_train['Embarked']=df_train['Embarked'].astype(int)\n",
    "df_test['Embarked']=df_test['Embarked'].astype(int)\n",
    "df_test['Fare']=df_test['Fare'].astype(int)\n",
    "df_test.info()"
   ]
  },
  {
   "cell_type": "code",
   "execution_count": 12,
   "id": "70a3a8b1",
   "metadata": {
    "execution": {
     "iopub.execute_input": "2022-10-29T02:56:15.242362Z",
     "iopub.status.busy": "2022-10-29T02:56:15.241558Z",
     "iopub.status.idle": "2022-10-29T02:56:16.476626Z",
     "shell.execute_reply": "2022-10-29T02:56:16.475610Z"
    },
    "papermill": {
     "duration": 1.245734,
     "end_time": "2022-10-29T02:56:16.479234",
     "exception": false,
     "start_time": "2022-10-29T02:56:15.233500",
     "status": "completed"
    },
    "tags": []
   },
   "outputs": [],
   "source": [
    "\n",
    "\n",
    "from sklearn.model_selection import cross_val_score\n",
    "from sklearn.neighbors import KNeighborsClassifier\n",
    "from sklearn.model_selection import train_test_split\n",
    "from sklearn.model_selection import GridSearchCV\n"
   ]
  },
  {
   "cell_type": "code",
   "execution_count": 13,
   "id": "32963856",
   "metadata": {
    "execution": {
     "iopub.execute_input": "2022-10-29T02:56:16.493733Z",
     "iopub.status.busy": "2022-10-29T02:56:16.493305Z",
     "iopub.status.idle": "2022-10-29T02:56:16.501526Z",
     "shell.execute_reply": "2022-10-29T02:56:16.500260Z"
    },
    "papermill": {
     "duration": 0.01823,
     "end_time": "2022-10-29T02:56:16.503873",
     "exception": false,
     "start_time": "2022-10-29T02:56:16.485643",
     "status": "completed"
    },
    "tags": []
   },
   "outputs": [
    {
     "data": {
      "text/plain": [
       "0      0\n",
       "1      1\n",
       "2      1\n",
       "3      1\n",
       "4      0\n",
       "      ..\n",
       "886    0\n",
       "887    1\n",
       "888    0\n",
       "889    1\n",
       "890    0\n",
       "Name: Survived, Length: 891, dtype: int64"
      ]
     },
     "execution_count": 13,
     "metadata": {},
     "output_type": "execute_result"
    }
   ],
   "source": [
    "df_train['Survived']"
   ]
  },
  {
   "cell_type": "code",
   "execution_count": 14,
   "id": "e2615705",
   "metadata": {
    "execution": {
     "iopub.execute_input": "2022-10-29T02:56:16.519313Z",
     "iopub.status.busy": "2022-10-29T02:56:16.518091Z",
     "iopub.status.idle": "2022-10-29T02:56:16.525167Z",
     "shell.execute_reply": "2022-10-29T02:56:16.524353Z"
    },
    "papermill": {
     "duration": 0.017347,
     "end_time": "2022-10-29T02:56:16.527649",
     "exception": false,
     "start_time": "2022-10-29T02:56:16.510302",
     "status": "completed"
    },
    "tags": []
   },
   "outputs": [],
   "source": [
    "y_train=df_train['Survived']\n",
    "df_train.drop(columns=['Survived'],inplace=True)\n",
    "X_train=df_train"
   ]
  },
  {
   "cell_type": "code",
   "execution_count": 15,
   "id": "a9077f94",
   "metadata": {
    "execution": {
     "iopub.execute_input": "2022-10-29T02:56:16.543063Z",
     "iopub.status.busy": "2022-10-29T02:56:16.542629Z",
     "iopub.status.idle": "2022-10-29T02:56:16.554937Z",
     "shell.execute_reply": "2022-10-29T02:56:16.554046Z"
    },
    "papermill": {
     "duration": 0.022736,
     "end_time": "2022-10-29T02:56:16.557008",
     "exception": false,
     "start_time": "2022-10-29T02:56:16.534272",
     "status": "completed"
    },
    "tags": []
   },
   "outputs": [
    {
     "data": {
      "text/plain": [
       "<bound method DataFrame.info of      Pclass  Sex        Age  SibSp  Parch     Fare  Embarked\n",
       "0         3    0  22.000000      1      0   7.2500         1\n",
       "1         1    1  38.000000      1      0  71.2833         0\n",
       "2         3    1  26.000000      0      0   7.9250         1\n",
       "3         1    1  35.000000      1      0  53.1000         1\n",
       "4         3    0  35.000000      0      0   8.0500         1\n",
       "..      ...  ...        ...    ...    ...      ...       ...\n",
       "886       2    0  27.000000      0      0  13.0000         1\n",
       "887       1    1  19.000000      0      0  30.0000         1\n",
       "888       3    1  29.699118      1      2  23.4500         1\n",
       "889       1    0  26.000000      0      0  30.0000         0\n",
       "890       3    0  32.000000      0      0   7.7500         2\n",
       "\n",
       "[891 rows x 7 columns]>"
      ]
     },
     "execution_count": 15,
     "metadata": {},
     "output_type": "execute_result"
    }
   ],
   "source": [
    "X_train.info"
   ]
  },
  {
   "cell_type": "code",
   "execution_count": 16,
   "id": "282d7e1d",
   "metadata": {
    "execution": {
     "iopub.execute_input": "2022-10-29T02:56:16.572142Z",
     "iopub.status.busy": "2022-10-29T02:56:16.571522Z",
     "iopub.status.idle": "2022-10-29T02:56:21.188010Z",
     "shell.execute_reply": "2022-10-29T02:56:21.186813Z"
    },
    "papermill": {
     "duration": 4.626778,
     "end_time": "2022-10-29T02:56:21.190511",
     "exception": false,
     "start_time": "2022-10-29T02:56:16.563733",
     "status": "completed"
    },
    "tags": []
   },
   "outputs": [
    {
     "data": {
      "text/plain": [
       "GridSearchCV(cv=10, estimator=KNeighborsClassifier(),\n",
       "             param_grid={'n_neighbors': array([ 1,  2,  3,  4,  5,  6,  7,  8,  9, 10, 11, 12, 13, 14])},\n",
       "             return_train_score=True)"
      ]
     },
     "execution_count": 16,
     "metadata": {},
     "output_type": "execute_result"
    }
   ],
   "source": [
    "param_grid={'n_neighbors':np.arange(1,15,1)}\n",
    "grid=GridSearchCV(KNeighborsClassifier(),param_grid=param_grid,cv=10,return_train_score=True)\n",
    "grid.fit(X_train,y_train)"
   ]
  },
  {
   "cell_type": "code",
   "execution_count": 17,
   "id": "a3aac7d8",
   "metadata": {
    "execution": {
     "iopub.execute_input": "2022-10-29T02:56:21.205856Z",
     "iopub.status.busy": "2022-10-29T02:56:21.205497Z",
     "iopub.status.idle": "2022-10-29T02:56:25.812028Z",
     "shell.execute_reply": "2022-10-29T02:56:25.810975Z"
    },
    "papermill": {
     "duration": 4.616921,
     "end_time": "2022-10-29T02:56:25.814351",
     "exception": false,
     "start_time": "2022-10-29T02:56:21.197430",
     "status": "completed"
    },
    "tags": []
   },
   "outputs": [
    {
     "data": {
      "text/plain": [
       "KNeighborsClassifier(n_neighbors=9)"
      ]
     },
     "execution_count": 17,
     "metadata": {},
     "output_type": "execute_result"
    }
   ],
   "source": [
    "grid.fit(X_train,y_train)\n",
    "knn=KNeighborsClassifier(n_neighbors=grid.best_params_['n_neighbors'])\n",
    "knn.fit(X_train,y_train)"
   ]
  },
  {
   "cell_type": "code",
   "execution_count": 18,
   "id": "09c751df",
   "metadata": {
    "execution": {
     "iopub.execute_input": "2022-10-29T02:56:25.829904Z",
     "iopub.status.busy": "2022-10-29T02:56:25.829527Z",
     "iopub.status.idle": "2022-10-29T02:56:25.851873Z",
     "shell.execute_reply": "2022-10-29T02:56:25.850762Z"
    },
    "papermill": {
     "duration": 0.033124,
     "end_time": "2022-10-29T02:56:25.854444",
     "exception": false,
     "start_time": "2022-10-29T02:56:25.821320",
     "status": "completed"
    },
    "tags": []
   },
   "outputs": [
    {
     "data": {
      "text/plain": [
       "(418,)"
      ]
     },
     "execution_count": 18,
     "metadata": {},
     "output_type": "execute_result"
    }
   ],
   "source": [
    "prediction=knn.predict(df_test)\n",
    "prediction.shape"
   ]
  },
  {
   "cell_type": "code",
   "execution_count": 19,
   "id": "5ee395bf",
   "metadata": {
    "execution": {
     "iopub.execute_input": "2022-10-29T02:56:25.869890Z",
     "iopub.status.busy": "2022-10-29T02:56:25.869533Z",
     "iopub.status.idle": "2022-10-29T02:56:25.877097Z",
     "shell.execute_reply": "2022-10-29T02:56:25.875848Z"
    },
    "papermill": {
     "duration": 0.018538,
     "end_time": "2022-10-29T02:56:25.880019",
     "exception": false,
     "start_time": "2022-10-29T02:56:25.861481",
     "status": "completed"
    },
    "tags": []
   },
   "outputs": [
    {
     "name": "stdout",
     "output_type": "stream",
     "text": [
      "Accuracy is: 0.6650717703349283\n"
     ]
    }
   ],
   "source": [
    "match_predictions=df_gender_submission['Survived']==prediction\n",
    "accuracy=np.mean(match_predictions)\n",
    "print('Accuracy is:', accuracy)"
   ]
  }
 ],
 "metadata": {
  "kernelspec": {
   "display_name": "Python 3",
   "language": "python",
   "name": "python3"
  },
  "language_info": {
   "codemirror_mode": {
    "name": "ipython",
    "version": 3
   },
   "file_extension": ".py",
   "mimetype": "text/x-python",
   "name": "python",
   "nbconvert_exporter": "python",
   "pygments_lexer": "ipython3",
   "version": "3.7.12"
  },
  "papermill": {
   "default_parameters": {},
   "duration": 20.414007,
   "end_time": "2022-10-29T02:56:26.608447",
   "environment_variables": {},
   "exception": null,
   "input_path": "__notebook__.ipynb",
   "output_path": "__notebook__.ipynb",
   "parameters": {},
   "start_time": "2022-10-29T02:56:06.194440",
   "version": "2.3.4"
  }
 },
 "nbformat": 4,
 "nbformat_minor": 5
}
